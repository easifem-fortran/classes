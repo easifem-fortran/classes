{
 "cells": [
  {
   "cell_type": "code",
   "execution_count": 2,
   "metadata": {},
   "outputs": [],
   "source": [
    "import numpy as np"
   ]
  },
  {
   "cell_type": "code",
   "execution_count": 9,
   "metadata": {},
   "outputs": [],
   "source": [
    "mat = np.zeros([8,8])\n",
    "rhs = np.zeros(8)"
   ]
  },
  {
   "cell_type": "code",
   "execution_count": 10,
   "metadata": {},
   "outputs": [
    {
     "name": "stdout",
     "output_type": "stream",
     "text": [
      "[[ 2. -1.  0.  0.  0.  0.  0.  0.]\n",
      " [-1.  2. -1.  0.  0.  0.  0.  0.]\n",
      " [ 0. -1.  2. -1.  0.  0.  0.  0.]\n",
      " [ 0.  0. -1.  2. -1.  0.  0.  0.]\n",
      " [ 0.  0.  0. -1.  2. -1.  0.  0.]\n",
      " [ 0.  0.  0.  0. -1.  2. -1.  0.]\n",
      " [ 0.  0.  0.  0.  0. -1.  2. -1.]\n",
      " [ 0.  0.  0.  0.  0.  0. -1.  2.]] [0.  0.  0.  0.  0.  0.  0.  0.5]\n"
     ]
    }
   ],
   "source": [
    "for i in np.arange(7):\n",
    "    mat[i,i]=2.0\n",
    "    mat[i,i+1]=-1.0\n",
    "    mat[i+1,i]=-1.0\n",
    "\n",
    "mat[7,7]=2.0\n",
    "rhs[7]=0.5\n",
    "print(mat, rhs)"
   ]
  },
  {
   "cell_type": "code",
   "execution_count": 11,
   "metadata": {},
   "outputs": [
    {
     "name": "stdout",
     "output_type": "stream",
     "text": [
      "[0.05555556 0.11111111 0.16666667 0.22222222 0.27777778 0.33333333\n",
      " 0.38888889 0.44444444]\n"
     ]
    }
   ],
   "source": [
    "sol = np.linalg.solve(mat, rhs)\n",
    "print(sol)"
   ]
  },
  {
   "cell_type": "code",
   "execution_count": 13,
   "metadata": {},
   "outputs": [
    {
     "name": "stdout",
     "output_type": "stream",
     "text": [
      "[[1. 0. 0. 0. 0. 0. 0. 0.]\n",
      " [0. 1. 0. 0. 0. 0. 0. 0.]\n",
      " [0. 0. 1. 0. 0. 0. 0. 0.]\n",
      " [0. 0. 0. 1. 0. 0. 0. 0.]\n",
      " [0. 0. 0. 0. 1. 0. 0. 0.]\n",
      " [0. 0. 0. 0. 0. 1. 0. 0.]\n",
      " [0. 0. 0. 0. 0. 0. 1. 0.]\n",
      " [0. 0. 0. 0. 0. 0. 0. 1.]]\n"
     ]
    }
   ],
   "source": [
    "import scipy.linalg as la\n",
    "(P, L, U) = la.lu(mat)\n",
    "print( P )"
   ]
  },
  {
   "cell_type": "code",
   "execution_count": 17,
   "metadata": {
    "scrolled": false
   },
   "outputs": [
    {
     "name": "stdout",
     "output_type": "stream",
     "text": [
      "[[ 1.          0.          0.          0.          0.          0.\n",
      "   0.          0.        ]\n",
      " [-0.5         1.          0.          0.          0.          0.\n",
      "   0.          0.        ]\n",
      " [ 0.         -0.66666667  1.          0.          0.          0.\n",
      "   0.          0.        ]\n",
      " [ 0.          0.         -0.75        1.          0.          0.\n",
      "   0.          0.        ]\n",
      " [ 0.          0.          0.         -0.8         1.          0.\n",
      "   0.          0.        ]\n",
      " [ 0.          0.          0.          0.         -0.83333333  1.\n",
      "   0.          0.        ]\n",
      " [ 0.          0.          0.          0.          0.         -0.85714286\n",
      "   1.          0.        ]\n",
      " [ 0.          0.          0.          0.          0.          0.\n",
      "  -0.875       1.        ]]\n"
     ]
    }
   ],
   "source": [
    "print( L )"
   ]
  },
  {
   "cell_type": "code",
   "execution_count": null,
   "metadata": {},
   "outputs": [],
   "source": []
  }
 ],
 "metadata": {
  "kernelspec": {
   "display_name": "Python 3",
   "language": "python",
   "name": "python3"
  },
  "language_info": {
   "codemirror_mode": {
    "name": "ipython",
    "version": 3
   },
   "file_extension": ".py",
   "mimetype": "text/x-python",
   "name": "python",
   "nbconvert_exporter": "python",
   "pygments_lexer": "ipython3",
   "version": "3.7.4"
  }
 },
 "nbformat": 4,
 "nbformat_minor": 4
}
